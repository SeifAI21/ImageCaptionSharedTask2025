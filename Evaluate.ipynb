{
  "nbformat": 4,
  "nbformat_minor": 0,
  "metadata": {
    "colab": {
      "provenance": [],
      "authorship_tag": "ABX9TyOwCKV8RHcPQqUCtxQ0QWvY",
      "include_colab_link": true
    },
    "kernelspec": {
      "name": "python3",
      "display_name": "Python 3"
    },
    "language_info": {
      "name": "python"
    }
  },
  "cells": [
    {
      "cell_type": "markdown",
      "metadata": {
        "id": "view-in-github",
        "colab_type": "text"
      },
      "source": [
        "<a href=\"https://colab.research.google.com/github/SinaLab/ImageCaptionSharedTask2025/blob/main/Evaluate.ipynb\" target=\"_parent\"><img src=\"https://colab.research.google.com/assets/colab-badge.svg\" alt=\"Open In Colab\"/></a>"
      ]
    },
    {
      "cell_type": "code",
      "source": [
        "#Clone from the Github SinaLab/ImageCaptionSharedTask2025.git\n",
        "!git clone https://github.com/SinaLab/ImageCaptionSharedTask2025.git"
      ],
      "metadata": {
        "id": "_6OGZWjozEbD"
      },
      "execution_count": null,
      "outputs": []
    },
    {
      "cell_type": "code",
      "source": [
        "#Change directory to the base directory\n",
        "import os\n",
        "os.chdir('/content/ImageCaptionSharedTask2025/Evaluation')"
      ],
      "metadata": {
        "id": "rH6fNl9JzFIC"
      },
      "execution_count": null,
      "outputs": []
    },
    {
      "cell_type": "code",
      "source": [
        "#  Install dependencies\n",
        "!pip install -r requirements.txt"
      ],
      "metadata": {
        "id": "B4Q8QkQXzQCF"
      },
      "execution_count": null,
      "outputs": []
    },
    {
      "cell_type": "code",
      "source": [
        "# Simple evaluation with auto-detected columns\n",
        "!python run_evaluation.py results.csv"
      ],
      "metadata": {
        "id": "c4CLev2UzStJ"
      },
      "execution_count": null,
      "outputs": []
    },
    {
      "cell_type": "code",
      "source": [
        "# Specify column names\n",
        "!python run_evaluation.py results.csv Description arabic_caption"
      ],
      "metadata": {
        "id": "hABSHavjzvzO"
      },
      "execution_count": null,
      "outputs": []
    },
    {
      "cell_type": "code",
      "source": [
        "#Run with all optins\n",
        "!python evaluation_main.py results.csv   --ref_col Description   --cand_col arabic_caption  --output_dir ./my_evaluation/  --llm_judge  --api_key your-api-key  --model_id gpt-4o   --max_samples 50"
      ],
      "metadata": {
        "id": "VeRa-qrAz2JC"
      },
      "execution_count": null,
      "outputs": []
    }
  ]
}