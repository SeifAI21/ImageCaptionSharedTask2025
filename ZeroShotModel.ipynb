{
  "nbformat": 4,
  "nbformat_minor": 0,
  "metadata": {
    "colab": {
      "provenance": [],
      "authorship_tag": "ABX9TyNi7Om4C699ckjqdzI+P5PX",
      "include_colab_link": true
    },
    "kernelspec": {
      "name": "python3",
      "display_name": "Python 3"
    },
    "language_info": {
      "name": "python"
    }
  },
  "cells": [
    {
      "cell_type": "markdown",
      "metadata": {
        "id": "view-in-github",
        "colab_type": "text"
      },
      "source": [
        "<a href=\"https://colab.research.google.com/github/SinaLab/ImageCaptionSharedTask2025/blob/main/ZeroShotModel.ipynb\" target=\"_parent\"><img src=\"https://colab.research.google.com/assets/colab-badge.svg\" alt=\"Open In Colab\"/></a>"
      ]
    },
    {
      "cell_type": "code",
      "source": [
        "# Verify that you have the GPU recognized, this code needs GPU.\n",
        "!nvidia-smi"
      ],
      "metadata": {
        "id": "9PVAzslltarN"
      },
      "execution_count": null,
      "outputs": []
    },
    {
      "cell_type": "code",
      "source": [
        "#Clone from the Github SinaLab/ImageCaptionSharedTask2025.git\n",
        "!git clone https://github.com/SinaLab/ImageCaptionSharedTask2025.git"
      ],
      "metadata": {
        "id": "vsewNHTwtcGS"
      },
      "execution_count": null,
      "outputs": []
    },
    {
      "cell_type": "code",
      "source": [
        "#Change directory to the base directory\n",
        "import os\n",
        "os.chdir('/content/ImageCaptionSharedTask2025/ImageValZeroShot')"
      ],
      "metadata": {
        "id": "HRMhJiJdJGyV"
      },
      "execution_count": null,
      "outputs": []
    },
    {
      "cell_type": "code",
      "source": [
        "# Install dependencies\n",
        "!pip install -r requirements.txt"
      ],
      "metadata": {
        "id": "aQQ2i_fRt7xc"
      },
      "execution_count": null,
      "outputs": []
    },
    {
      "cell_type": "code",
      "source": [
        "#using Google drive for images just press this cell\n",
        "!python image_captioning.py  --image_folder \\ \"/content/drive/MyDrive/ImageVal/Test/images\" \\ --output_csv \"/content/drive/MyDrive/ImageVal/Test/captions.csv\"!"
      ],
      "metadata": {
        "id": "j8fJppkIEkcq"
      },
      "execution_count": null,
      "outputs": []
    },
    {
      "cell_type": "code",
      "source": [
        "#For using Hugging Face to reach the dataset press these cells\n",
        "#make sure to run on a pproved account\n",
        "import os\n",
        "from huggingface_hub import snapshot_download\n",
        "login(token=\"add you hugging face directory\")\n",
        "\n",
        "target_dir = \"/content/Train/\"\n",
        "\n",
        "os.makedirs(target_dir, exist_ok=True)\n",
        "\n",
        "dataset_dir = snapshot_download(\n",
        "    repo_id=\"SinaLab/ImageEval2025Task2TrainDataset\",\n",
        "    repo_type=\"dataset\",\n",
        "    local_dir=target_dir,\n",
        "    local_dir_use_symlinks=False\n",
        ")\n"
      ],
      "metadata": {
        "id": "fPfEuoo0CCDS"
      },
      "execution_count": 1,
      "outputs": []
    },
    {
      "cell_type": "code",
      "source": [
        "!python run_captioning.py /path/to/images  /path/output.csv"
      ],
      "metadata": {
        "id": "vUTnaKU5_6bd"
      },
      "execution_count": null,
      "outputs": []
    },
    {
      "cell_type": "code",
      "source": [
        "#If you want to use a different model\n",
        "!python image_captioning.py \\ --model_name \"your/custom-model\" \\ --image_folder ./images \\ --output_csv ./output.csv"
      ],
      "metadata": {
        "id": "44F3NYALEaLB"
      },
      "execution_count": null,
      "outputs": []
    },
    {
      "cell_type": "code",
      "source": [],
      "metadata": {
        "id": "r3c6YnarFG_g"
      },
      "execution_count": null,
      "outputs": []
    }
  ]
}